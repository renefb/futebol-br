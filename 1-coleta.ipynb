{
 "cells": [
  {
   "cell_type": "markdown",
   "id": "ae3e3f82-232d-4623-bdf6-482eb30a043d",
   "metadata": {},
   "source": [
    "# Coleta dos dados via webscraping"
   ]
  },
  {
   "cell_type": "markdown",
   "id": "d67a6451-6cfb-4af8-ac3b-2bf420360016",
   "metadata": {},
   "source": [
    "Este notebook documenta a raspagem feita no site da [CBF](https://www.cbf.com.br/) para coleta dos resultados das partidas de duas das principais competições nacionais do futebol masculino, o Campeonato Brasileiro e a Copa do Brasil, nas temporadas de 2012 a 2022.\n",
    "\n",
    "Em todo o site, as páginas que dão acesso aos detalhes de cada partida têm o mesmo padrão: **cbf.com.br/futebol-brasileiro/competicoes/`{competicao}`/`{temporada}`/`{id_partida}`?ref=linha**\n",
    "\n",
    "- Para os propósitos do trabalho, o parâmetro **competicao** pode assumir os valores `campeonato-brasileiro-serie-a` ou `copa-brasil-masculino`\n",
    "- O parâmetro **temporada** pode assumir qualquer valor numérico entre `2012` e `2022`\n",
    "- O parâmetro **id_partida** também é um valor numérico crescente, de acordo com a ordem de realização dos jogos, assumindo valores entre `1` e o número máximo de partidas previstos para a competição e temporada correspondentes.\n",
    "\n",
    "A raspagem será feita em duas etapas. Na primeira, vamos iterar em um loop para criar todas as combinações de competição e temporada na URL base e, para cada URL criada, extrair os links das partidas. Na segunda, visitamos a página de cada partida para obter os dados de que precisamos."
   ]
  },
  {
   "cell_type": "markdown",
   "id": "22ee83c3-14e2-4809-a94e-03215c0fa6bc",
   "metadata": {},
   "source": [
    "## Setup"
   ]
  },
  {
   "cell_type": "code",
   "execution_count": 1,
   "id": "0583cda1-d75e-4ff1-b1a6-fc22823a7e56",
   "metadata": {},
   "outputs": [],
   "source": [
    "import datetime\n",
    "import json\n",
    "import re\n",
    "\n",
    "from bs4 import BeautifulSoup\n",
    "import requests as req"
   ]
  },
  {
   "cell_type": "markdown",
   "id": "010c5a2b-27f9-4fb2-9d58-6b05dbed1cc3",
   "metadata": {},
   "source": [
    "## Raspagem preliminar: obtendo o total de partidas por competição/temporada"
   ]
  },
  {
   "cell_type": "markdown",
   "id": "c5f96089-f564-48eb-807a-a9ed5b6ad0be",
   "metadata": {},
   "source": [
    "Nesta seção, coletamos, para cada edição de uma das competições, a quantidade total de partidas disputadas.\n",
    "\n",
    "Ao visitarmos a página inicial de cada competição/edição, coletaremos qualquer URL correspondente a uma partida e identificaremos aquela que possui o parâmetro `id_partida` com o maior valor, chegando, assim, ao número máximo de partidas."
   ]
  },
  {
   "cell_type": "code",
   "execution_count": 2,
   "id": "d749a485-0fba-4730-b14e-d99b1bdfad11",
   "metadata": {},
   "outputs": [],
   "source": [
    "# função auxiliar para identificação dos links\n",
    "# que levam às páginas das partidas\n",
    "\n",
    "def filtra_links_partidas(href):\n",
    "    \"\"\"\n",
    "        Checa se o valor do atributo href de um elemento HTML\n",
    "        termina com o a expressão 'ref=linha'\n",
    "    \"\"\"\n",
    "    return href and re.compile('ref=linha$').search(href)"
   ]
  },
  {
   "cell_type": "code",
   "execution_count": 3,
   "id": "07b3daae-1e72-428b-bdc6-c8f4a05d8b3f",
   "metadata": {
    "tags": []
   },
   "outputs": [],
   "source": [
    "# raspagem\n",
    "\n",
    "numero_partidas = {\n",
    "    'campeonato-brasileiro-serie-a': {},\n",
    "    'copa-brasil-masculino': {}\n",
    "}\n",
    "\n",
    "for competicao in numero_partidas.keys():\n",
    "\n",
    "    for temporada in range(2012, 2023):\n",
    "        \n",
    "        url_competicao = f'https://www.cbf.com.br/futebol-brasileiro/competicoes/{competicao}/{temporada}'\n",
    "        res = req.get(url_competicao)\n",
    "        soup = BeautifulSoup(res.text)\n",
    "\n",
    "        ids_partida = []\n",
    "        # usando a função auxiliar de filtro:\n",
    "        for a in soup.find_all(href=filtra_links_partidas):\n",
    "            href = a['href']\n",
    "            id_partida = href.split('/')[-1].split('?')[0]\n",
    "            ids_partida.append(int(id_partida))\n",
    "\n",
    "        numero_partidas[competicao][temporada] = max(ids_partida)"
   ]
  },
  {
   "cell_type": "code",
   "execution_count": 4,
   "id": "fa224acc-813f-4825-b7cd-14b12eab5443",
   "metadata": {},
   "outputs": [
    {
     "name": "stdout",
     "output_type": "stream",
     "text": [
      "{\n",
      "    \"campeonato-brasileiro-serie-a\": {\n",
      "        \"2012\": 380,\n",
      "        \"2013\": 380,\n",
      "        \"2014\": 380,\n",
      "        \"2015\": 380,\n",
      "        \"2016\": 380,\n",
      "        \"2017\": 380,\n",
      "        \"2018\": 380,\n",
      "        \"2019\": 380,\n",
      "        \"2020\": 380,\n",
      "        \"2021\": 380,\n",
      "        \"2022\": 380\n",
      "    },\n",
      "    \"copa-brasil-masculino\": {\n",
      "        \"2012\": 126,\n",
      "        \"2013\": 172,\n",
      "        \"2014\": 172,\n",
      "        \"2015\": 172,\n",
      "        \"2016\": 170,\n",
      "        \"2017\": 120,\n",
      "        \"2018\": 120,\n",
      "        \"2019\": 120,\n",
      "        \"2020\": 120,\n",
      "        \"2021\": 122,\n",
      "        \"2022\": 108\n",
      "    }\n",
      "}\n"
     ]
    }
   ],
   "source": [
    "# o resultado da célula anterior é um dicionário contento\n",
    "# o total de partidas em cada edição de cada competição\n",
    "# (não era uma checagem necessária para o Brasileirão,\n",
    "# pois a quantidade de equipes é a mesma de 2012 para cá)\n",
    "print(json.dumps(numero_partidas, indent=4))"
   ]
  },
  {
   "cell_type": "markdown",
   "id": "f6438085-80a5-49dd-8d2f-613a546b90e5",
   "metadata": {},
   "source": [
    "## Raspagem principal"
   ]
  },
  {
   "cell_type": "markdown",
   "id": "e275ed91-4065-445f-9657-d357d979957e",
   "metadata": {},
   "source": [
    "Nesta seção, definimos, primeiro, a função `scrap_partida()`, que será responsável por extrair de cada página os dados de interesse: equipes, placares (do tempo normal de jogo e das disputas de pênaltis) e jogadores que marcaram os gols da partida.\n",
    "\n",
    "Em seguida, definimos um laço para iterar sobre a sequência de partidas de cada competição/temporada e aplicar a função criada. Uma observação importante deve ser feita em relação à temporada 2022, que ainda não se encontra encerrada no momento de escrita deste notebook (quando estavam realizadas as partidas de número 160 do Campeonato Brasileiro e 108 da Copa do Brasil)."
   ]
  },
  {
   "cell_type": "code",
   "execution_count": 5,
   "id": "b0152116-b8e9-495d-8136-3fbb744760a5",
   "metadata": {},
   "outputs": [],
   "source": [
    "# função reponsável pela raspagem principal\n",
    "\n",
    "def scrap_partida(url):\n",
    "    \"\"\"\n",
    "        Acessa a página da partida e coleta os dados principais\n",
    "        - local, data e hora\n",
    "        - placar do tempo normal de jogo\n",
    "        - placar de eventual disputa de pênaltis\n",
    "        - jogadores que marcaram gol\n",
    "    \"\"\"\n",
    "    res = req.get(url)\n",
    "    soup = BeautifulSoup(res.text, 'html.parser')\n",
    "\n",
    "    dados = [competicao, temporada, id_partida]\n",
    "\n",
    "    # local, data e hora\n",
    "    agenda = [span.text.strip() for span in soup.find_all('span', class_='text-2 p-r-20')][:3]\n",
    "    dados.extend(agenda)\n",
    "\n",
    "    # placar, nome e jogadores da equipe mandante que marcaram gols\n",
    "    mandante = re.split('\\n+', soup.find('div', class_='time-left').text)[1:-1]\n",
    "    if len(mandante) < 2:\n",
    "        mandante = [0] + mandante\n",
    "    dados.extend(mandante[:2])\n",
    "    dados.append(sep.join(mandante[2:]))\n",
    "\n",
    "    # placar, nome e jogadores da equipe visitante que marcaram gols\n",
    "    visitante = re.split('\\n+', soup.find('div', class_='time-right').text)[1:-1]\n",
    "    if len(visitante) < 2:\n",
    "        mandante = [0] + visitante\n",
    "    dados.extend(visitante[:2])\n",
    "    dados.append(sep.join(visitante[2:]))\n",
    "\n",
    "    # identifica gols contra (dentre os já coletados anteriormente)\n",
    "    gols_contra = set([p.text for p in soup.find_all('p', class_='color-red')])\n",
    "    dados.append(sep.join(gols_contra))\n",
    "\n",
    "    # placar da disputa de pênaltis\n",
    "    penaltis = [0, 0]\n",
    "    try:\n",
    "        disputa_penaltis = re.split('\\n+', soup.find('div', class_='x center-block').text)\n",
    "        if len(disputa_penaltis)>2:\n",
    "            penaltis = disputa_penaltis[2:4]\n",
    "    except AttributeError:\n",
    "        penaltis = [0, 0]    \n",
    "    dados.extend(penaltis)\n",
    "    \n",
    "    # agrupa e retorna todos os dados em uma lista\n",
    "    dados = [str(x) for x in dados]    \n",
    "    return dados"
   ]
  },
  {
   "cell_type": "code",
   "execution_count": 6,
   "id": "38780b60-0938-457e-9d59-7815e7c80a96",
   "metadata": {},
   "outputs": [
    {
     "name": "stdout",
     "output_type": "stream",
     "text": [
      "campeonato-brasileiro-serie-a\n",
      "\ttemporada 2012: partida 380 [100%]\n",
      "\ttemporada 2013: partida 380 [100%]\n",
      "\ttemporada 2014: partida 380 [100%]\n",
      "\ttemporada 2015: partida 380 [100%]\n",
      "\ttemporada 2016: partida 380 [100%]\n",
      "\ttemporada 2017: partida 380 [100%]\n",
      "\ttemporada 2018: partida 380 [100%]\n",
      "\ttemporada 2019: partida 380 [100%]\n",
      "\ttemporada 2020: partida 380 [100%]\n",
      "\ttemporada 2021: partida 380 [100%]\n",
      "\ttemporada 2022: partida 160 [100%]\n",
      "copa-brasil-masculino\n",
      "\ttemporada 2012: partida 126 [100%]\n",
      "\ttemporada 2013: partida 172 [100%]\n",
      "\ttemporada 2014: partida 172 [100%]\n",
      "\ttemporada 2015: partida 172 [100%]\n",
      "\ttemporada 2016: partida 170 [100%]\n",
      "\ttemporada 2017: partida 120 [100%]\n",
      "\ttemporada 2018: partida 120 [100%]\n",
      "\ttemporada 2019: partida 120 [100%]\n",
      "\ttemporada 2020: partida 120 [100%]\n",
      "\ttemporada 2021: partida 122 [100%]\n",
      "\ttemporada 2022: partida 108 [100%]\n"
     ]
    }
   ],
   "source": [
    "# iterando sobre as urls de cada página\n",
    "# para aplicar a função de raspagem\n",
    "\n",
    "sep = ' |'\n",
    "arquivo_resultados = 'dados/raw-scrap.csv'\n",
    "erros = []\n",
    "\n",
    "for competicao, temporadas in numero_partidas.items():\n",
    "    print(competicao, end='')\n",
    "    \n",
    "    for temporada, max_partidas in temporadas.items():\n",
    "        print(f'\\n\\ttemporada {temporada}:', end='')\n",
    "        \n",
    "        if str(temporada)=='2022':\n",
    "            if competicao=='campeonato-brasileiro-serie-a':\n",
    "                max_range = 160 + 1  # até o final da 16ª rodada\n",
    "            else:\n",
    "                max_range = 108 + 1  # até oitavas-de-final\n",
    "        else:\n",
    "            max_range = max_partidas + 1\n",
    "        \n",
    "        for id_partida in range(1, max_range):\n",
    "            \n",
    "            url = f'https://www.cbf.com.br/futebol-brasileiro/competicoes/{competicao}/{temporada}/{id_partida}'\n",
    "            \n",
    "            # faz a raspagem e salva os resultados num arq. csv\n",
    "            try:\n",
    "                dados = scrap_partida(url)\n",
    "                linha = ','.join(dados)\n",
    "                linha += '\\n'\n",
    "                with open(arquivo_resultados, 'a', encoding='utf8') as f:\n",
    "                    f.write(linha)\n",
    "            except Exception as e:\n",
    "                erro = (competicao, temporada, id_partida, str(e))\n",
    "                erros.append(erro)\n",
    "            finally:\n",
    "                loader = int(id_partida/max_range*100)\n",
    "                print('\\r\\ttemporada %s: partida %03d [%02d%%]' % (temporada, id_partida, loader), end='')\n",
    "    \n",
    "    print()"
   ]
  },
  {
   "cell_type": "code",
   "execution_count": 7,
   "id": "012ba93b-f0e6-4bc1-9caf-7cf3541d1dd3",
   "metadata": {},
   "outputs": [
    {
     "data": {
      "text/plain": [
       "[]"
      ]
     },
     "execution_count": 7,
     "metadata": {},
     "output_type": "execute_result"
    }
   ],
   "source": [
    "# verifica se algum erro foi armazenado\n",
    "erros"
   ]
  }
 ],
 "metadata": {
  "kernelspec": {
   "display_name": "Python 3 (ipykernel)",
   "language": "python",
   "name": "python3"
  },
  "language_info": {
   "codemirror_mode": {
    "name": "ipython",
    "version": 3
   },
   "file_extension": ".py",
   "mimetype": "text/x-python",
   "name": "python",
   "nbconvert_exporter": "python",
   "pygments_lexer": "ipython3",
   "version": "3.9.7"
  }
 },
 "nbformat": 4,
 "nbformat_minor": 5
}
