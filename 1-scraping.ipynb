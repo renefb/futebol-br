{
 "cells": [
  {
   "cell_type": "code",
   "execution_count": 1,
   "id": "fdb59a8f-86b5-40c8-8c5b-5b9a1d603b56",
   "metadata": {},
   "outputs": [],
   "source": [
    "# para qualquer partida, de qualquer competicao, a url deve ser\n",
    "# https://www.cbf.com.br/futebol-brasileiro/competicoes/{competicao}/{temporada}/{jogo}?ref=linha#escalacao'\n",
    "\n",
    "# desde 2012:\n",
    "#  todas as edições do brasileirão têm 20 equipes e 380 jogos\n",
    "#  o número de equipes e partidas tem variado na copa do brasil"
   ]
  },
  {
   "cell_type": "code",
   "execution_count": 46,
   "id": "0583cda1-d75e-4ff1-b1a6-fc22823a7e56",
   "metadata": {},
   "outputs": [],
   "source": [
    "import datetime\n",
    "import json\n",
    "import locale\n",
    "from pprint import pprint\n",
    "import re\n",
    "\n",
    "from bs4 import BeautifulSoup\n",
    "import requests as req"
   ]
  },
  {
   "cell_type": "code",
   "execution_count": 38,
   "id": "d749a485-0fba-4730-b14e-d99b1bdfad11",
   "metadata": {},
   "outputs": [],
   "source": [
    "# função que identifica se o attributo href de qualquer elemento \n",
    "# da página corresponde ao link de uma partida\n",
    "def filtra_links_partidas(href):\n",
    "    return href and re.compile('linha$').search(href)"
   ]
  },
  {
   "cell_type": "code",
   "execution_count": 41,
   "id": "07b3daae-1e72-428b-bdc6-c8f4a05d8b3f",
   "metadata": {
    "tags": []
   },
   "outputs": [],
   "source": [
    "# identificando o número máximo de partidas por competição\n",
    "\n",
    "numero_partidas = {\n",
    "    'campeonato-brasileiro-serie-a': {},\n",
    "    'copa-brasil-masculino': {}\n",
    "}\n",
    "\n",
    "for competicao in numero_partidas.keys():\n",
    "\n",
    "    for temporada in range(2012, 2022):\n",
    "        \n",
    "        url_competicao = f'https://www.cbf.com.br/futebol-brasileiro/competicoes/{competicao}/{temporada}'\n",
    "        res = req.get(url_competicao)\n",
    "        soup = BeautifulSoup(res.text)\n",
    "\n",
    "        ids_partida = []\n",
    "        for a in soup.find_all(href=filtra_links_partidas):\n",
    "            href = a['href']\n",
    "            id_partida = href.split('/')[-1].split('?')[0]\n",
    "            ids_partida.append(int(id_partida))\n",
    "\n",
    "        numero_partidas[competicao][temporada] = max(ids_partida)"
   ]
  },
  {
   "cell_type": "code",
   "execution_count": 48,
   "id": "fa224acc-813f-4825-b7cd-14b12eab5443",
   "metadata": {},
   "outputs": [
    {
     "name": "stdout",
     "output_type": "stream",
     "text": [
      "{\n",
      "    \"campeonato-brasileiro-serie-a\": {\n",
      "        \"2012\": 380,\n",
      "        \"2013\": 380,\n",
      "        \"2014\": 380,\n",
      "        \"2015\": 380,\n",
      "        \"2016\": 380,\n",
      "        \"2017\": 380,\n",
      "        \"2018\": 380,\n",
      "        \"2019\": 380,\n",
      "        \"2020\": 380,\n",
      "        \"2021\": 380\n",
      "    },\n",
      "    \"copa-brasil-masculino\": {\n",
      "        \"2012\": 126,\n",
      "        \"2013\": 172,\n",
      "        \"2014\": 172,\n",
      "        \"2015\": 172,\n",
      "        \"2016\": 170,\n",
      "        \"2017\": 120,\n",
      "        \"2018\": 120,\n",
      "        \"2019\": 120,\n",
      "        \"2020\": 120,\n",
      "        \"2021\": 122\n",
      "    }\n",
      "}\n"
     ]
    }
   ],
   "source": [
    "print(json.dumps(numero_partidas, indent=4))"
   ]
  },
  {
   "cell_type": "code",
   "execution_count": 112,
   "id": "6b15a69d-3d64-446d-8590-e48c0b21619a",
   "metadata": {},
   "outputs": [
    {
     "name": "stdout",
     "output_type": "stream",
     "text": [
      "{\n",
      "    \"campeonato-brasileiro-serie-a\": {\n",
      "        \"2012\": 3,\n",
      "        \"2013\": 3,\n",
      "        \"2014\": 3\n",
      "    },\n",
      "    \"copa-brasil-masculino\": {\n",
      "        \"2012\": 3,\n",
      "        \"2013\": 3,\n",
      "        \"2014\": 3\n",
      "    }\n",
      "}\n"
     ]
    }
   ],
   "source": [
    "churros = {'campeonato-brasileiro-serie-a': {'2012': 3, '2013': 3, '2014': 3}, 'copa-brasil-masculino': {'2012': 3, '2013': 3, '2014': 3}}\n",
    "print(json.dumps(churros, indent=4))"
   ]
  },
  {
   "cell_type": "code",
   "execution_count": 161,
   "id": "b0152116-b8e9-495d-8136-3fbb744760a5",
   "metadata": {},
   "outputs": [],
   "source": [
    "def scrap_partida(url):\n",
    "    res = req.get(url)\n",
    "    soup = BeautifulSoup(res.text, 'html.parser')\n",
    "\n",
    "    dados = [competicao, temporada, id_partida]\n",
    "\n",
    "    agenda = [span.text.strip() for span in soup.find_all('span', class_='text-2 p-r-20')][:3]\n",
    "    dados.extend(agenda)\n",
    "\n",
    "    mandante = re.split('\\n+', soup.find('div', class_='time-left').text)[1:-1]\n",
    "    dados.extend(mandante[:2])\n",
    "    dados.append(sep.join(mandante[2:]))\n",
    "\n",
    "    visitante = re.split('\\n+', soup.find('div', class_='time-right').text)[1:-1]\n",
    "    dados.extend(visitante[:2])\n",
    "    dados.append(sep.join(visitante[2:]))\n",
    "\n",
    "    gols_contra = set([p.text for p in soup.find_all('p', class_='color-red')])\n",
    "    dados.append(sep.join(gols_contra))\n",
    "\n",
    "    penaltis = [0, 0]\n",
    "    try:\n",
    "        disputa_penaltis = re.split('\\n+', soup.find('div', class_='x center-block').text)\n",
    "        if len(disputa_penaltis)>2:\n",
    "            penaltis = disputa_penaltis[2:4]\n",
    "    except AttributeError:\n",
    "        penaltis = [0, 0]    \n",
    "    dados.extend(penaltis)\n",
    "    \n",
    "    dados = [str(x) for x in dados]\n",
    "    \n",
    "    return dados"
   ]
  },
  {
   "cell_type": "code",
   "execution_count": 170,
   "id": "38780b60-0938-457e-9d59-7815e7c80a96",
   "metadata": {},
   "outputs": [
    {
     "name": "stdout",
     "output_type": "stream",
     "text": [
      "campeonato-brasileiro-serie-a\n",
      "\ttemporada 2012: partida 380 [100%]\n",
      "\ttemporada 2013: partida 380 [100%]\n",
      "\ttemporada 2014: partida 380 [100%]\n",
      "\ttemporada 2015: partida 380 [100%]\n",
      "\ttemporada 2016: partida 380 [100%]\n",
      "\ttemporada 2017: partida 380 [100%]\n",
      "\ttemporada 2018: partida 380 [100%]\n",
      "\ttemporada 2019: partida 380 [100%]\n",
      "\ttemporada 2020: partida 380 [100%]\n",
      "\ttemporada 2021: partida 380 [100%]\n",
      "copa-brasil-masculino\n",
      "\ttemporada 2012: partida 126 [100%]\n",
      "\ttemporada 2013: partida 172 [100%]\n",
      "\ttemporada 2014: partida 172 [100%]\n",
      "\ttemporada 2015: partida 172 [100%]\n",
      "\ttemporada 2016: partida 170 [100%]\n",
      "\ttemporada 2017: partida 120 [100%]\n",
      "\ttemporada 2018: partida 120 [100%]\n",
      "\ttemporada 2019: partida 120 [100%]\n",
      "\ttemporada 2020: partida 120 [100%]\n",
      "\ttemporada 2021: partida 122 [100%]\n"
     ]
    }
   ],
   "source": [
    "sep = ' |'\n",
    "arquivo_resultados = 'dados/raw-scrap.csv'\n",
    "erros = []\n",
    "\n",
    "for competicao, temporadas in numero_partidas.items():\n",
    "    print(competicao, end='')\n",
    "    \n",
    "    for temporada, max_partidas in temporadas.items():\n",
    "        print(f'\\n\\ttemporada {temporada}:', end='')\n",
    "        \n",
    "        for id_partida in range(1, max_partidas+1):\n",
    "            \n",
    "            url = f'https://www.cbf.com.br/futebol-brasileiro/competicoes/{competicao}/{temporada}/{id_partida}'\n",
    "            \n",
    "            try:\n",
    "                dados = scrap_partida(url)\n",
    "                linha = ','.join(dados)\n",
    "                linha += '\\n'\n",
    "                with open(arquivo_resultados, 'a', encoding='utf8') as f:\n",
    "                    f.write(linha)\n",
    "            except Exception as e:\n",
    "                erro = (competicao, temporada, id_partida, str(e))\n",
    "                erros.append(erro)\n",
    "            finally:\n",
    "                loader = int(id_partida/max_partidas*100)\n",
    "                print('\\r\\ttemporada %s: partida %03d [%02d%%]' % (temporada, id_partida, loader), end='')\n",
    "    \n",
    "    print()"
   ]
  },
  {
   "cell_type": "code",
   "execution_count": 171,
   "id": "012ba93b-f0e6-4bc1-9caf-7cf3541d1dd3",
   "metadata": {},
   "outputs": [
    {
     "data": {
      "text/plain": [
       "[]"
      ]
     },
     "execution_count": 171,
     "metadata": {},
     "output_type": "execute_result"
    }
   ],
   "source": [
    "erros"
   ]
  }
 ],
 "metadata": {
  "kernelspec": {
   "display_name": "Python 3 (ipykernel)",
   "language": "python",
   "name": "python3"
  },
  "language_info": {
   "codemirror_mode": {
    "name": "ipython",
    "version": 3
   },
   "file_extension": ".py",
   "mimetype": "text/x-python",
   "name": "python",
   "nbconvert_exporter": "python",
   "pygments_lexer": "ipython3",
   "version": "3.9.7"
  }
 },
 "nbformat": 4,
 "nbformat_minor": 5
}
